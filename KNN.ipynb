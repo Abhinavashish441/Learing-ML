{
  "nbformat": 4,
  "nbformat_minor": 0,
  "metadata": {
    "colab": {
      "name": "KNN.ipynb",
      "provenance": []
    },
    "kernelspec": {
      "name": "python3",
      "display_name": "Python 3"
    },
    "language_info": {
      "name": "python"
    }
  },
  "cells": [
    {
      "cell_type": "code",
      "execution_count": null,
      "metadata": {
        "colab": {
          "base_uri": "https://localhost:8080/",
          "height": 734
        },
        "id": "SQcLXzcX2BKS",
        "outputId": "0d46f656-0943-410d-bf89-828234545a14"
      },
      "outputs": [
        {
          "output_type": "stream",
          "name": "stdout",
          "text": [
            "Collecting mglearn\n",
            "  Downloading mglearn-0.1.9.tar.gz (540 kB)\n",
            "\u001b[?25l\r\u001b[K     |▋                               | 10 kB 19.6 MB/s eta 0:00:01\r\u001b[K     |█▏                              | 20 kB 22.8 MB/s eta 0:00:01\r\u001b[K     |█▉                              | 30 kB 16.6 MB/s eta 0:00:01\r\u001b[K     |██▍                             | 40 kB 12.0 MB/s eta 0:00:01\r\u001b[K     |███                             | 51 kB 6.2 MB/s eta 0:00:01\r\u001b[K     |███▋                            | 61 kB 7.2 MB/s eta 0:00:01\r\u001b[K     |████▎                           | 71 kB 7.9 MB/s eta 0:00:01\r\u001b[K     |████▉                           | 81 kB 7.3 MB/s eta 0:00:01\r\u001b[K     |█████▌                          | 92 kB 8.0 MB/s eta 0:00:01\r\u001b[K     |██████                          | 102 kB 8.7 MB/s eta 0:00:01\r\u001b[K     |██████▊                         | 112 kB 8.7 MB/s eta 0:00:01\r\u001b[K     |███████▎                        | 122 kB 8.7 MB/s eta 0:00:01\r\u001b[K     |███████▉                        | 133 kB 8.7 MB/s eta 0:00:01\r\u001b[K     |████████▌                       | 143 kB 8.7 MB/s eta 0:00:01\r\u001b[K     |█████████                       | 153 kB 8.7 MB/s eta 0:00:01\r\u001b[K     |█████████▊                      | 163 kB 8.7 MB/s eta 0:00:01\r\u001b[K     |██████████▎                     | 174 kB 8.7 MB/s eta 0:00:01\r\u001b[K     |███████████                     | 184 kB 8.7 MB/s eta 0:00:01\r\u001b[K     |███████████▌                    | 194 kB 8.7 MB/s eta 0:00:01\r\u001b[K     |████████████▏                   | 204 kB 8.7 MB/s eta 0:00:01\r\u001b[K     |████████████▊                   | 215 kB 8.7 MB/s eta 0:00:01\r\u001b[K     |█████████████▍                  | 225 kB 8.7 MB/s eta 0:00:01\r\u001b[K     |██████████████                  | 235 kB 8.7 MB/s eta 0:00:01\r\u001b[K     |██████████████▋                 | 245 kB 8.7 MB/s eta 0:00:01\r\u001b[K     |███████████████▏                | 256 kB 8.7 MB/s eta 0:00:01\r\u001b[K     |███████████████▊                | 266 kB 8.7 MB/s eta 0:00:01\r\u001b[K     |████████████████▍               | 276 kB 8.7 MB/s eta 0:00:01\r\u001b[K     |█████████████████               | 286 kB 8.7 MB/s eta 0:00:01\r\u001b[K     |█████████████████▋              | 296 kB 8.7 MB/s eta 0:00:01\r\u001b[K     |██████████████████▏             | 307 kB 8.7 MB/s eta 0:00:01\r\u001b[K     |██████████████████▉             | 317 kB 8.7 MB/s eta 0:00:01\r\u001b[K     |███████████████████▍            | 327 kB 8.7 MB/s eta 0:00:01\r\u001b[K     |████████████████████            | 337 kB 8.7 MB/s eta 0:00:01\r\u001b[K     |████████████████████▋           | 348 kB 8.7 MB/s eta 0:00:01\r\u001b[K     |█████████████████████▎          | 358 kB 8.7 MB/s eta 0:00:01\r\u001b[K     |█████████████████████▉          | 368 kB 8.7 MB/s eta 0:00:01\r\u001b[K     |██████████████████████▌         | 378 kB 8.7 MB/s eta 0:00:01\r\u001b[K     |███████████████████████         | 389 kB 8.7 MB/s eta 0:00:01\r\u001b[K     |███████████████████████▋        | 399 kB 8.7 MB/s eta 0:00:01\r\u001b[K     |████████████████████████▎       | 409 kB 8.7 MB/s eta 0:00:01\r\u001b[K     |████████████████████████▉       | 419 kB 8.7 MB/s eta 0:00:01\r\u001b[K     |█████████████████████████▌      | 430 kB 8.7 MB/s eta 0:00:01\r\u001b[K     |██████████████████████████      | 440 kB 8.7 MB/s eta 0:00:01\r\u001b[K     |██████████████████████████▊     | 450 kB 8.7 MB/s eta 0:00:01\r\u001b[K     |███████████████████████████▎    | 460 kB 8.7 MB/s eta 0:00:01\r\u001b[K     |████████████████████████████    | 471 kB 8.7 MB/s eta 0:00:01\r\u001b[K     |████████████████████████████▌   | 481 kB 8.7 MB/s eta 0:00:01\r\u001b[K     |█████████████████████████████▏  | 491 kB 8.7 MB/s eta 0:00:01\r\u001b[K     |█████████████████████████████▊  | 501 kB 8.7 MB/s eta 0:00:01\r\u001b[K     |██████████████████████████████▍ | 512 kB 8.7 MB/s eta 0:00:01\r\u001b[K     |███████████████████████████████ | 522 kB 8.7 MB/s eta 0:00:01\r\u001b[K     |███████████████████████████████▌| 532 kB 8.7 MB/s eta 0:00:01\r\u001b[K     |████████████████████████████████| 540 kB 8.7 MB/s \n",
            "\u001b[?25hRequirement already satisfied: numpy in /usr/local/lib/python3.7/dist-packages (from mglearn) (1.21.5)\n",
            "Requirement already satisfied: matplotlib in /usr/local/lib/python3.7/dist-packages (from mglearn) (3.2.2)\n",
            "Requirement already satisfied: scikit-learn in /usr/local/lib/python3.7/dist-packages (from mglearn) (1.0.2)\n",
            "Requirement already satisfied: pandas in /usr/local/lib/python3.7/dist-packages (from mglearn) (1.3.5)\n",
            "Requirement already satisfied: pillow in /usr/local/lib/python3.7/dist-packages (from mglearn) (7.1.2)\n",
            "Requirement already satisfied: cycler in /usr/local/lib/python3.7/dist-packages (from mglearn) (0.11.0)\n",
            "Requirement already satisfied: imageio in /usr/local/lib/python3.7/dist-packages (from mglearn) (2.4.1)\n",
            "Requirement already satisfied: joblib in /usr/local/lib/python3.7/dist-packages (from mglearn) (1.1.0)\n",
            "Requirement already satisfied: kiwisolver>=1.0.1 in /usr/local/lib/python3.7/dist-packages (from matplotlib->mglearn) (1.3.2)\n",
            "Requirement already satisfied: pyparsing!=2.0.4,!=2.1.2,!=2.1.6,>=2.0.1 in /usr/local/lib/python3.7/dist-packages (from matplotlib->mglearn) (3.0.7)\n",
            "Requirement already satisfied: python-dateutil>=2.1 in /usr/local/lib/python3.7/dist-packages (from matplotlib->mglearn) (2.8.2)\n",
            "Requirement already satisfied: six>=1.5 in /usr/local/lib/python3.7/dist-packages (from python-dateutil>=2.1->matplotlib->mglearn) (1.15.0)\n",
            "Requirement already satisfied: pytz>=2017.3 in /usr/local/lib/python3.7/dist-packages (from pandas->mglearn) (2018.9)\n",
            "Requirement already satisfied: threadpoolctl>=2.0.0 in /usr/local/lib/python3.7/dist-packages (from scikit-learn->mglearn) (3.1.0)\n",
            "Requirement already satisfied: scipy>=1.1.0 in /usr/local/lib/python3.7/dist-packages (from scikit-learn->mglearn) (1.4.1)\n",
            "Building wheels for collected packages: mglearn\n",
            "  Building wheel for mglearn (setup.py) ... \u001b[?25l\u001b[?25hdone\n",
            "  Created wheel for mglearn: filename=mglearn-0.1.9-py2.py3-none-any.whl size=582639 sha256=bcd652e052b6294cc27bc9117e150dfdb109e244e76636ea77ad30a40c028c6c\n",
            "  Stored in directory: /root/.cache/pip/wheels/f1/17/e1/1720d6dcd70187b6b6c3750cb3508798f2b1d57c9d3214b08b\n",
            "Successfully built mglearn\n",
            "Installing collected packages: mglearn\n",
            "Successfully installed mglearn-0.1.9\n"
          ]
        },
        {
          "output_type": "stream",
          "name": "stderr",
          "text": [
            "/usr/local/lib/python3.7/dist-packages/sklearn/utils/deprecation.py:87: FutureWarning: Function make_blobs is deprecated; Please import make_blobs directly from scikit-learn\n",
            "  warnings.warn(msg, category=FutureWarning)\n"
          ]
        },
        {
          "output_type": "display_data",
          "data": {
            "image/png": "[encoded data removed]",
            "text/plain": [
              "<Figure size 432x288 with 1 Axes>"
            ]
          },
          "metadata": {
            "needs_background": "light"
          }
        }
      ],
      "source": [
        "!pip install mglearn\n",
        "import mglearn\n",
        "mglearn.plots.plot_knn_classification(n_neighbors=1)"
      ]
    },
    {
      "cell_type": "code",
      "source": [
        "mglearn.plots.plot_knn_classification(n_neighbors=3)"
      ],
      "metadata": {
        "colab": {
          "base_uri": "https://localhost:8080/",
          "height": 300
        },
        "id": "6Eu7cHfn2U9n",
        "outputId": "2ae31ca3-6bfe-4c6f-fe79-d4026ecec98b"
      },
      "execution_count": null,
      "outputs": [
        {
          "output_type": "stream",
          "name": "stderr",
          "text": [
            "/usr/local/lib/python3.7/dist-packages/sklearn/utils/deprecation.py:87: FutureWarning: Function make_blobs is deprecated; Please import make_blobs directly from scikit-learn\n",
            "  warnings.warn(msg, category=FutureWarning)\n"
          ]
        },
        {
          "output_type": "display_data",
          "data": {
            "image/png": "[encoded data removed]",
            "text/plain": [
              "<Figure size 432x288 with 1 Axes>"
            ]
          },
          "metadata": {
            "needs_background": "light"
          }
        }
      ]
    },
    {
      "cell_type": "code",
      "source": [
        "from sklearn.model_selection import train_test_split\n",
        "X, y = mglearn.datasets.make_forge()\n"
      ],
      "metadata": {
        "colab": {
          "base_uri": "https://localhost:8080/"
        },
        "id": "CeVYpuDX2uiI",
        "outputId": "b1281e2a-1a65-44e2-9c7a-c64c8e352d41"
      },
      "execution_count": null,
      "outputs": [
        {
          "output_type": "stream",
          "name": "stderr",
          "text": [
            "/usr/local/lib/python3.7/dist-packages/sklearn/utils/deprecation.py:87: FutureWarning: Function make_blobs is deprecated; Please import make_blobs directly from scikit-learn\n",
            "  warnings.warn(msg, category=FutureWarning)\n"
          ]
        }
      ]
    },
    {
      "cell_type": "code",
      "source": [
        "X_train, X_test, y_train, y_test = train_test_split(X, y, random_state=0)"
      ],
      "metadata": {
        "id": "UMSuMNuF23oj"
      },
      "execution_count": null,
      "outputs": []
    },
    {
      "cell_type": "code",
      "source": [
        "from sklearn.neighbors import KNeighborsClassifier\n",
        "clf = KNeighborsClassifier(n_neighbors=3)\n"
      ],
      "metadata": {
        "id": "YOzNM4qY27mN"
      },
      "execution_count": null,
      "outputs": []
    },
    {
      "cell_type": "code",
      "source": [
        "clf.fit(X_train, y_train)"
      ],
      "metadata": {
        "colab": {
          "base_uri": "https://localhost:8080/"
        },
        "id": "QVOLTogt3Bew",
        "outputId": "4d3de224-39be-4976-c4e5-db30876f9a6c"
      },
      "execution_count": null,
      "outputs": [
        {
          "output_type": "execute_result",
          "data": {
            "text/plain": [
              "KNeighborsClassifier(n_neighbors=3)"
            ]
          },
          "metadata": {},
          "execution_count": 7
        }
      ]
    },
    {
      "cell_type": "code",
      "source": [
        "print(\"Test set predictions: {}\".format(clf.predict(X_test)))\n",
        "print(\"Test set accuracy: {:.2f}\".format(clf.score(X_test, y_test)))"
      ],
      "metadata": {
        "colab": {
          "base_uri": "https://localhost:8080/"
        },
        "id": "oceDLAMk3JJq",
        "outputId": "9252a413-6616-4928-f72e-5670431d562c"
      },
      "execution_count": null,
      "outputs": [
        {
          "output_type": "stream",
          "name": "stdout",
          "text": [
            "Test set predictions: [1 0 1 0 1 0 0]\n",
            "Test set accuracy: 0.86\n"
          ]
        }
      ]
    },
    {
      "cell_type": "code",
      "source": [
        "#Breast_cancer"
      ],
      "metadata": {
        "id": "vSjru-Xe3Zbp"
      },
      "execution_count": null,
      "outputs": []
    },
    {
      "cell_type": "code",
      "source": [
        "from sklearn.datasets import load_breast_cancer\n"
      ],
      "metadata": {
        "id": "K-Z_Zb3A3pv8"
      },
      "execution_count": null,
      "outputs": []
    },
    {
      "cell_type": "code",
      "source": [
        "cancer = load_breast_cancer()\n",
        "X_train, X_test, y_train, y_test = train_test_split(\n",
        " cancer.data, cancer.target, random_state=66)\n"
      ],
      "metadata": {
        "id": "uomEhVAs3xsY"
      },
      "execution_count": null,
      "outputs": []
    },
    {
      "cell_type": "code",
      "source": [
        "training_accuracy = []\n",
        "test_accuracy = []\n",
        "# try n_neighbors from 1 to 10\n",
        "neighbors_settings = range(1, 11)"
      ],
      "metadata": {
        "id": "KEOXKu8K31GS"
      },
      "execution_count": null,
      "outputs": []
    },
    {
      "cell_type": "code",
      "source": [
        "for n_neighbors in neighbors_settings:\n",
        " # build the model\n",
        " clf = KNeighborsClassifier(n_neighbors=n_neighbors)\n",
        " clf.fit(X_train, y_train)\n",
        " # record training set accuracy\n",
        " training_accuracy.append(clf.score(X_train, y_train))\n",
        " # record generalization accuracy\n",
        " test_accuracy.append(clf.score(X_test, y_test))\n"
      ],
      "metadata": {
        "id": "Msp11U6d37YD"
      },
      "execution_count": null,
      "outputs": []
    },
    {
      "cell_type": "code",
      "source": [
        "import matplotlib.pyplot as plt\n",
        "plt.plot(neighbors_settings, training_accuracy, label=\"training accuracy\")\n",
        "plt.plot(neighbors_settings, test_accuracy, label=\"test accuracy\")\n",
        "plt.ylabel(\"Accuracy\")\n",
        "plt.xlabel(\"n_neighbors\")\n",
        "plt.legend()\n"
      ],
      "metadata": {
        "colab": {
          "base_uri": "https://localhost:8080/",
          "height": 298
        },
        "id": "NXiNBWuy4HQB",
        "outputId": "f005ba73-f273-4f31-e4cb-f870d1da02e5"
      },
      "execution_count": null,
      "outputs": [
        {
          "output_type": "execute_result",
          "data": {
            "text/plain": [
              "<matplotlib.legend.Legend at 0x7fd98838be90>"
            ]
          },
          "metadata": {},
          "execution_count": 19
        },
        {
          "output_type": "display_data",
          "data": {
            "image/png": "[encoded data removed]",
            "text/plain": [
              "<Figure size 432x288 with 1 Axes>"
            ]
          },
          "metadata": {
            "needs_background": "light"
          }
        }
      ]
    },
    {
      "cell_type": "code",
      "source": [
        ""
      ],
      "metadata": {
        "id": "nJ0diAOg4KOI"
      },
      "execution_count": null,
      "outputs": []
    }
  ]
}